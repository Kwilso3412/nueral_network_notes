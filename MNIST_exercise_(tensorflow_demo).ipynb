{
 "cells": [
  {
   "cell_type": "markdown",
   "id": "a8e92afc",
   "metadata": {},
   "source": [
    "### MNIST DEMO\n",
    "\n",
    "The code chunks below go through's the process of training a neural network with tensor flow. The comments outline each step of the process in great detail.\n"
   ]
  },
  {
   "cell_type": "code",
   "execution_count": 1,
   "id": "66a3c7a3",
   "metadata": {},
   "outputs": [
    {
     "name": "stdout",
     "output_type": "stream",
     "text": [
      "Requirement already satisfied: setuptools in c:\\users\\kahsw\\lib\\site-packages (69.2.0)\n"
     ]
    }
   ],
   "source": [
    "# if you get this error: ModuleNotFoundError: No module named 'distutils'\n",
    "#!pip install setuptools\n",
    "\n",
    "# initial tensor flow set \n",
    "#!pip install tensorflow \n",
    "\n",
    "# install if you incase you plan on not need GPU support\n",
    "#pip install tensorflow-cpu"
   ]
  },
  {
   "cell_type": "code",
   "execution_count": 1,
   "id": "33800faf",
   "metadata": {
    "tags": []
   },
   "outputs": [
    {
     "name": "stdout",
     "output_type": "stream",
     "text": [
      "WARNING:tensorflow:From C:\\Users\\kahsw\\AppData\\Local\\Temp\\ipykernel_9096\\2016531377.py:11: The name tf.enable_eager_execution is deprecated. Please use tf.compat.v1.enable_eager_execution instead.\n",
      "\n"
     ]
    }
   ],
   "source": [
    "# Future is used to bridge the gap between different versions of python.\n",
    "# However, I am running python 3 so I will not need use this part of the code \n",
    "#from __future__ import absolute_import, division, print_function\n",
    "\n",
    "# used for building \n",
    "import tensorflow as tf\n",
    "from tensorflow.keras import Model, layers\n",
    "import numpy as np\n",
    "\n",
    "# This code is necessary to bring in all of the public TensorFlow interface\n",
    "tf.compat.v1.enable_eager_execution()"
   ]
  },
  {
   "cell_type": "code",
   "execution_count": 3,
   "id": "bbd99719",
   "metadata": {
    "tags": []
   },
   "outputs": [],
   "source": [
    "# MNIST dataset parameters. \n",
    "# MNIST dataset is a large database of hand written digits. This is commonly used for training and testing machine learning models\n",
    "\n",
    "# What are the classes? \n",
    "\n",
    "## The classes indicate the total number of distinct classes in the dataset.\n",
    "## 10 is specific to this data set if you want to increase then you will need to choose a new dataset\n",
    "num_classes = 10 \n",
    "\n",
    "\n",
    "#What are the features?\n",
    "\n",
    "## The features represent the number of features in each image of the data set. Each image is a 28x28 pixel grayscale image, \n",
    "## when the image is flattened into a single array it will have 28*28 = 784 features. It corresponds to the intensity of\n",
    "## each pixel, ranging from 0 (white) to 255 (black).\n",
    "## This number is also specific to the MNIST dataset and cannot be changed. \n",
    "num_features = 784"
   ]
  },
  {
   "cell_type": "code",
   "execution_count": 4,
   "id": "92be08c5",
   "metadata": {
    "tags": []
   },
   "outputs": [],
   "source": [
    "# What are each of these parameters?\n",
    "\n",
    "## Learning rate is the hyperparameter that controls the rate at which the model is changed, given the estimated error when the model's weights are updated.\n",
    "learning_rate = 0.1\n",
    "\n",
    "## Training steps specifies the total number of training iterations.\n",
    "training_steps = 2000\n",
    "\n",
    "## In each training step a batch of data is fed into the model for processing. The batch size will determine the amount of \n",
    "## data samplers included in each step to compute the gradient and update the model\n",
    "batch_size = 256\n",
    "\n",
    "## Display step is used for logging results. It's used for monitor training progress and performance metrics.\n",
    "## In this case the information will be printed every 100 training steps. \n",
    "display_step = 100"
   ]
  },
  {
   "cell_type": "code",
   "execution_count": 5,
   "id": "a4b3aa47",
   "metadata": {
    "tags": []
   },
   "outputs": [],
   "source": [
    "# What do these have to do with the neural network?\n",
    "\n",
    "## The hidden layers below specify the number of neurons (or units) in the first and second layers of neural network.\n",
    "## Each neuron will receive input from all the neurons in the previous layer. It will process the input through a weighted\n",
    "## sum followed by an activation function, and then pass the output to the next layer. \n",
    "\n",
    "## The 'n_hidden_1' is the first layer input layer and contains 128 neurons. \n",
    "n_hidden_1 = 128\n",
    "\n",
    "## The second layer specifies 256 neurons. Each of these neurons will receive an input from all 128 neurons in the first layer and then forward the output to the next layer. \n",
    "## Since there are only two layers this is the output layer. However, if there by adding more layers it can pass one its neurons to subsequent layers. \n",
    "n_hidden_2 = 256"
   ]
  },
  {
   "cell_type": "code",
   "execution_count": 6,
   "id": "3ce85d59",
   "metadata": {
    "tags": []
   },
   "outputs": [
    {
     "name": "stdout",
     "output_type": "stream",
     "text": [
      "Downloading data from https://storage.googleapis.com/tensorflow/tf-keras-datasets/mnist.npz\n",
      "\u001b[1m11490434/11490434\u001b[0m \u001b[32m━━━━━━━━━━━━━━━━━━━━\u001b[0m\u001b[37m\u001b[0m \u001b[1m5s\u001b[0m 0us/step\n"
     ]
    }
   ],
   "source": [
    "# What is this block of code doing?\n",
    "\n",
    "## This block of code is used to prepare the MNIST dataset for training.\n",
    "## 1) The MNIST dataset is loaded in, then the data is divided into ('x_train' and 'y_train') and ('x_test' and 'y_test').\n",
    "## 2) The next step converts both the testing and training sets into floats. It is necessary to do this when performing numerical operation during training.\n",
    "## 3) The image is flattened. This step is required because the input layer of many neural networks expect a single vector\n",
    "## of features for each sample, rather than a 2D array.\n",
    "## 4) Lastly the image is normalized. The pixel values of the image (which range from 0 to 255) are normalized to fall with in the range of [0,1]. \n",
    "## This is a common step that improves the convergence of training by scaling the input features to similar range. \n",
    "\n",
    "from tensorflow.keras.datasets import mnist\n",
    "(x_train, y_train), (x_test, y_test) = mnist.load_data()\n",
    "\n",
    "# Convert to float32.\n",
    "x_train, x_test = np.array(x_train, np.float32), np.array(x_test, np.float32)\n",
    "# Flatten images to 1-D vector of 784 features (28*28).\n",
    "x_train, x_test = x_train.reshape([-1, num_features]), x_test.reshape([-1, num_features])\n",
    "# Normalize images value from [0, 255] to [0, 1].\n",
    "x_train, x_test = x_train / 255., x_test / 255."
   ]
  },
  {
   "cell_type": "code",
   "execution_count": 7,
   "id": "aea36c6f",
   "metadata": {
    "tags": []
   },
   "outputs": [
    {
     "name": "stdout",
     "output_type": "stream",
     "text": [
      "Rows: 60000, columns: 784\n"
     ]
    }
   ],
   "source": [
    "# Print out the number of rows and number of columns\n",
    "print('Rows: %d, columns: %d' % (x_train.shape[0], x_train.shape[1]))"
   ]
  },
  {
   "cell_type": "code",
   "execution_count": 7,
   "id": "fc10e853",
   "metadata": {
    "tags": []
   },
   "outputs": [
    {
     "name": "stdout",
     "output_type": "stream",
     "text": [
      "Rows: 10000, columns: 784\n"
     ]
    }
   ],
   "source": [
    "# Another print, but why is the output different than the previous print?\n",
    "\n",
    "## The reason the numbers are different is because the data was split between test and train. \n",
    "## The previous block was the train dataset and the code in this block represents the test data set\n",
    "\n",
    "print('Rows: %d, columns: %d' % (x_test.shape[0], x_test.shape[1]))"
   ]
  },
  {
   "cell_type": "code",
   "execution_count": 9,
   "id": "67769976",
   "metadata": {
    "tags": []
   },
   "outputs": [
    {
     "data": {
      "image/png": "[encoded data removed]",
      "text/plain": [
       "<Figure size 640x480 with 10 Axes>"
      ]
     },
     "metadata": {},
     "output_type": "display_data"
    }
   ],
   "source": [
    "# This block of code displays the different options of the data (the digits)\n",
    "import matplotlib.pyplot as plt\n",
    "%matplotlib inline\n",
    "\n",
    "fig, ax = plt.subplots(nrows=2, ncols=5, sharex=True, sharey=True,)\n",
    "ax = ax.flatten()\n",
    "for i in range(10):\n",
    "    img = x_train[y_train == i][0].reshape(28, 28)\n",
    "    ax[i].imshow(img, cmap='Greys', interpolation='nearest')\n",
    "\n",
    "ax[0].set_xticks([])\n",
    "ax[0].set_yticks([])\n",
    "plt.tight_layout()\n",
    "plt.show()"
   ]
  },
  {
   "cell_type": "code",
   "execution_count": 10,
   "id": "678d73ba",
   "metadata": {
    "tags": []
   },
   "outputs": [
    {
     "data": {
      "image/png": "[encoded data removed]",
      "text/plain": [
       "<Figure size 640x480 with 25 Axes>"
      ]
     },
     "metadata": {},
     "output_type": "display_data"
    }
   ],
   "source": [
    "# Another block of code to display some data, but how does it differ than the previous block of code?\n",
    "\n",
    "## The first block goes through digits 0 - 9. While the second specifically focuses on the digit 7. It then gives 25 versions of the number. \n",
    "\n",
    "ig, ax = plt.subplots(nrows=5, ncols=5, sharex=True, sharey=True,)\n",
    "ax = ax.flatten()\n",
    "for i in range(25):\n",
    "    img = x_train[y_train == 7][i].reshape(28, 28)\n",
    "    ax[i].imshow(img, cmap='Greys', interpolation='nearest')\n",
    "\n",
    "ax[0].set_xticks([])\n",
    "ax[0].set_yticks([])\n",
    "plt.tight_layout()\n",
    "plt.show()"
   ]
  },
  {
   "cell_type": "code",
   "execution_count": 11,
   "id": "a4207f60",
   "metadata": {
    "tags": []
   },
   "outputs": [],
   "source": [
    "train_data = tf.data.Dataset.from_tensor_slices((x_train, y_train))\n",
    "# What is getting shuffled and batched, and why batch them?\n",
    "\n",
    "## The x_train and y_train data is getting shuffled and batched. \n",
    "## The shuffling ensures that the data is presented in a random order. Shuffling helps to improve the model's generalization \n",
    "## ability by making sure the batches of data it trains on have a varied distribution of classes. \n",
    "## Shuffling also mitigates risk associated with learning not genuine patterns that could arise form the sequence rather than the content of the data\n",
    "\n",
    "## Instead of updating the model's weights after each single example, batching them allows the model to update weights after processing each batch of data. \n",
    "## By organizing the data into smaller groups it helps the neural network learn better as it gets a variety of examples in each batch. \n",
    "## Batching can help with balancing the computers workload so it can handle the data more efficiently. \n",
    "\n",
    "train_data = train_data.repeat().shuffle(5000).batch(batch_size).prefetch(1)"
   ]
  },
  {
   "cell_type": "code",
   "execution_count": 12,
   "id": "5846b8f9",
   "metadata": {
    "tags": []
   },
   "outputs": [],
   "source": [
    "# This is a Python block of code. Basically what is it doing?\n",
    "\n",
    "## The python code is basically creating a simple neural network. \n",
    "class NeuralNet(Model):\n",
    "    def __init__(self):\n",
    "        super(NeuralNet, self).__init__()\n",
    "        self.fc1 = layers.Dense(n_hidden_1, activation=tf.nn.relu)\n",
    "        self.fc2 = layers.Dense(n_hidden_2, activation=tf.nn.relu)\n",
    "        self.out = layers.Dense(num_classes)\n",
    "\n",
    "    def call(self, x, is_training=False):\n",
    "        x = self.fc1(x)\n",
    "        x = self.fc2(x)\n",
    "        x = self.out(x)\n",
    "        if not is_training:\n",
    "            # tf cross entropy expect logits without softmax, so only\n",
    "            # apply softmax when not training.\n",
    "            x = tf.nn.softmax(x)\n",
    "        return x"
   ]
  },
  {
   "cell_type": "code",
   "execution_count": 13,
   "id": "6a58d01a",
   "metadata": {
    "tags": []
   },
   "outputs": [],
   "source": [
    "# Another Python thing but what is it actually doing?\n",
    "\n",
    "## This is creating a blueprint of a neural network model by setting up the architecture with the specified layers and activations and preparing it for further use.\n",
    "neural_net = NeuralNet()"
   ]
  },
  {
   "cell_type": "code",
   "execution_count": 14,
   "id": "d2ff6d64",
   "metadata": {
    "tags": []
   },
   "outputs": [],
   "source": [
    "# A function to perform cross entropy loss using functions from tensorflow\n",
    "# How will this function be used?\n",
    "\n",
    "## The function calculates the cross-entropy loss between the models predictions ('x') and the true labels ('y'). \n",
    "## This is a typical step used during the training of a neural network to measure the performance of the model. \n",
    "## Specifically how well the model's predictions match the true labels. \n",
    "\n",
    "def cross_entropy_loss(x, y):\n",
    "    y = tf.cast(y, tf.int64) # Convert labels to int 64 for tf cross-entropy function.\n",
    "    loss = tf.nn.sparse_softmax_cross_entropy_with_logits(labels=y, logits=x)\n",
    "    return tf.reduce_mean(loss)"
   ]
  },
  {
   "cell_type": "code",
   "execution_count": 15,
   "id": "7aa95707",
   "metadata": {
    "tags": []
   },
   "outputs": [],
   "source": [
    "# A function for accuracy\n",
    "# But what do we mean by accuracy? Accuracy of what?\n",
    "\n",
    "## We are looking at the accuracy of the predictions made by the model. Specifically how often the model can correctly predict the class labels when given inputs. \n",
    "\n",
    "def accuracy(y_pred, y_true):\n",
    "    correct_prediction = tf.equal(tf.argmax(y_pred, 1), tf.cast(y_true, tf.int64))\n",
    "    return tf.reduce_mean(tf.cast(correct_prediction, tf.float32), axis=-1)"
   ]
  },
  {
   "cell_type": "code",
   "execution_count": 16,
   "id": "bb2ad0ce",
   "metadata": {
    "tags": []
   },
   "outputs": [],
   "source": [
    "# Is this line of code needed? If so, why?\n",
    "\n",
    "## Yes this code is needed because the optimizer is a crucial component when training a neural network. It's responsible for adjusting \n",
    "## the model's weights based on the gradients of the loss function with respect to those weights, aiming to minimize loss. \n",
    "\n",
    "optimizer = tf.keras.optimizers.SGD(learning_rate)"
   ]
  },
  {
   "cell_type": "code",
   "execution_count": 17,
   "id": "ddd41e4d",
   "metadata": {
    "tags": []
   },
   "outputs": [],
   "source": [
    "# In summary, what is this function doing?\n",
    "\n",
    "## The code below is performing a single step of training for the neural network. 'run_optimization' executes a training step where it calculates \n",
    "## how the networks predictions differ from teh actual values, it also determines how to adjust the networks parameters to reduce this error,\n",
    "## then it updates the parameters to improve the model.\n",
    "\n",
    "def run_optimization(x, y):\n",
    "    # Wrap computation inside a GradientTape for automatic differentiation.\n",
    "    with tf.GradientTape() as g:\n",
    "        pred = neural_net(x, is_training=True)\n",
    "        loss = cross_entropy_loss(pred, y)\n",
    "        \n",
    "    trainable_variables = neural_net.trainable_variables\n",
    "\n",
    "    gradients = g.gradient(loss, trainable_variables)\n",
    "    \n",
    "    optimizer.apply_gradients(zip(gradients, trainable_variables))"
   ]
  },
  {
   "cell_type": "code",
   "execution_count": 18,
   "id": "1232aa40",
   "metadata": {
    "tags": []
   },
   "outputs": [
    {
     "name": "stdout",
     "output_type": "stream",
     "text": [
      "step: 100, loss: 0.361992, accuracy: 0.894531\n",
      "step: 200, loss: 0.299880, accuracy: 0.921875\n",
      "step: 300, loss: 0.301292, accuracy: 0.914062\n",
      "step: 400, loss: 0.220568, accuracy: 0.925781\n",
      "step: 500, loss: 0.308668, accuracy: 0.921875\n",
      "step: 600, loss: 0.213078, accuracy: 0.953125\n",
      "step: 700, loss: 0.153674, accuracy: 0.960938\n",
      "step: 800, loss: 0.193044, accuracy: 0.941406\n",
      "step: 900, loss: 0.226572, accuracy: 0.933594\n",
      "step: 1000, loss: 0.150668, accuracy: 0.976562\n",
      "step: 1100, loss: 0.149307, accuracy: 0.960938\n",
      "step: 1200, loss: 0.112287, accuracy: 0.972656\n",
      "step: 1300, loss: 0.121058, accuracy: 0.972656\n",
      "step: 1400, loss: 0.085633, accuracy: 0.976562\n",
      "step: 1500, loss: 0.116870, accuracy: 0.972656\n",
      "step: 1600, loss: 0.098713, accuracy: 0.968750\n",
      "step: 1700, loss: 0.068089, accuracy: 0.988281\n",
      "step: 1800, loss: 0.106490, accuracy: 0.976562\n",
      "step: 1900, loss: 0.099055, accuracy: 0.968750\n",
      "step: 2000, loss: 0.072795, accuracy: 0.988281\n"
     ]
    }
   ],
   "source": [
    "# The run_optimization() function is run in a for_loop - what is that accomplishing?\n",
    "\n",
    "## The for loop is optimizing the neural networks parameters (weights and biases) by iteratively processing small subsets of the data (mini-batches),\n",
    "## calculating how wrong the model's predictions are, and making adjustments to reduce the error. \n",
    "## It also prints out the loss and accuracy of the data to ensure the model is learning effectively. \n",
    "\n",
    "for step, (batch_x, batch_y) in enumerate(train_data.take(training_steps), 1):\n",
    "    run_optimization(batch_x, batch_y)\n",
    "    \n",
    "    if step % display_step == 0:\n",
    "        pred = neural_net(batch_x, is_training=True)\n",
    "        loss = cross_entropy_loss(pred, batch_y)\n",
    "        acc = accuracy(pred, batch_y)\n",
    "        print(\"step: %i, loss: %f, accuracy: %f\" % (step, loss, acc))"
   ]
  },
  {
   "cell_type": "code",
   "execution_count": 20,
   "id": "26bc1fd5",
   "metadata": {
    "tags": []
   },
   "outputs": [
    {
     "name": "stdout",
     "output_type": "stream",
     "text": [
      "Test Accuracy: 0.962700\n"
     ]
    }
   ],
   "source": [
    "# The testing data is used here, but what is it being used to do?\n",
    "\n",
    "## The testing data is being used to evaluate the trained neural network model's performance\n",
    "## on a dataset it hasn't seen during training. This is a very important step for assessing the model's \n",
    "## generalization ability and how well it can apply what it has been exposed to new, unseen data. \n",
    "\n",
    "pred = neural_net(x_test, is_training=False)\n",
    "print(\"Test Accuracy: %f\" % accuracy(pred, y_test))"
   ]
  }
 ],
 "metadata": {
  "kernelspec": {
   "display_name": "Python 3 (ipykernel)",
   "language": "python",
   "name": "python3"
  },
  "language_info": {
   "codemirror_mode": {
    "name": "ipython",
    "version": 3
   },
   "file_extension": ".py",
   "mimetype": "text/x-python",
   "name": "python",
   "nbconvert_exporter": "python",
   "pygments_lexer": "ipython3",
   "version": "3.12.0"
  }
 },
 "nbformat": 4,
 "nbformat_minor": 5
}
